{
 "cells": [
  {
   "cell_type": "markdown",
   "id": "a41f3622",
   "metadata": {},
   "source": [
    "# Ejercicios de probabilidad"
   ]
  },
  {
   "cell_type": "markdown",
   "id": "a6bdbd89",
   "metadata": {},
   "source": [
    "## Ejercicio 1 \n",
    "\n",
    "Dos dados se lanzan una vez y se observa el total obtenido. Usa una simulación para encontrar la probabilidad estimada de que la puntuación sea mayor a 7 o un número par. Una simulación es una repetición del mismo experimento múltiples veces para observar su comportamiento:\n",
    "\n",
    "- Ejecuta el experimento 1000 veces (lanza 2 dados 1000 veces, y suma el número de ambos dados).\n",
    "- Lleva una cuenta de los números y las veces que la suma fue mayor a 7 o un número par.\n",
    "- Divide el número del paso 2 entre el número de iteraciones(1000)."
   ]
  },
  {
   "cell_type": "code",
   "execution_count": 34,
   "id": "8939d892",
   "metadata": {},
   "outputs": [
    {
     "name": "stdout",
     "output_type": "stream",
     "text": [
      "The estimated probability that when rolling the dice in a simulation of 1000 \n",
      "attempts an even number will come out is: 56%\n",
      "The estimated probability that when rolling the dice in a simulation of 1000 \n",
      "attempts a number higher than 7 will come out is: 28%\n"
     ]
    }
   ],
   "source": [
    "import random\n",
    "import numpy as np\n",
    "\n",
    "numbers_higher_seven = 0\n",
    "even_numbers = 0\n",
    "\n",
    "def dice_game():\n",
    "    return np.random.randint(2, 13, (1000))\n",
    "\n",
    "dice_numbers = dice_game()\n",
    "\n",
    "for i in dice_numbers:\n",
    "    if i > 7 and i % 2 == 0:\n",
    "        numbers_higher_seven += 1\n",
    "        even_numbers += 1\n",
    "    elif i % 2 == 0:\n",
    "        even_numbers += 1\n",
    "\n",
    "def probability_function(x):\n",
    "    return x / 1000\n",
    "\n",
    "print( f'''The estimated probability that when rolling the dice in a simulation of 1000 \n",
    "attempts an even number will come out is: {int(round(probability_function(even_numbers), 2) * 100)}%''')\n",
    "print( f'''The estimated probability that when rolling the dice in a simulation of 1000 \n",
    "attempts a number higher than 7 will come out is: {int(round(probability_function(numbers_higher_seven), 2) * 100)}%''')\n",
    "\n"
   ]
  },
  {
   "cell_type": "markdown",
   "id": "55732bca",
   "metadata": {},
   "source": [
    "## Ejercicio 2\n",
    "\n",
    "Una caja contiene 10 bolas blancas, 20 bolas rojas y 30 bolas verdes. Si tomamos 5 bolas de la caja reemplazándolas (tomando una bola, anotando el color y luego regresandola a la caja). Queremos saber la probabilidad de:\n",
    "\n",
    "1. Tomar 3 blancas y 2 rojas.\n",
    "2. Tomas todas del mismo color.\n",
    "\n",
    "Ejecuta el experimento 1000 veces y calcula las probabilidades que mencionadas."
   ]
  },
  {
   "cell_type": "code",
   "execution_count": 44,
   "id": "23244d20",
   "metadata": {},
   "outputs": [
    {
     "name": "stdout",
     "output_type": "stream",
     "text": [
      "The probability of drawing 3 white balls and 2 red balls is: 0.3%\n",
      "The probability of drawing 5 balls of the same color is: 2.5%\n"
     ]
    }
   ],
   "source": [
    "import random\n",
    "\n",
    "ball_box = ['White']*10 + ['Red']*20 + ['Green']*30\n",
    "\n",
    "three_white_two_red = 0\n",
    "same_color = 0\n",
    "\n",
    "for _ in range(1000):\n",
    "   \n",
    "    drawn_balls = [random.choice(ball_box) for _ in range(5)]\n",
    "    \n",
    "    white_count = drawn_balls.count('White')\n",
    "    red_count = drawn_balls.count('Red')\n",
    "    green_count = drawn_balls.count('Green')\n",
    "    \n",
    "    if white_count == 3 and red_count == 2:\n",
    "        three_white_two_red += 1\n",
    "    \n",
    "\n",
    "    if white_count == 5 or red_count == 5 or green_count == 5:\n",
    "        same_color += 1\n",
    "\n",
    "probability_three_white_two_red = three_white_two_red / 1000\n",
    "probability_same_color = same_color / 1000\n",
    "\n",
    "print(f'The probability of drawing 3 white balls and 2 red balls is: {round(probability_three_white_two_red * 100, 2)}%')\n",
    "print(f'The probability of drawing 5 balls of the same color is: {round(probability_same_color * 100, 2)}%')"
   ]
  }
 ],
 "metadata": {
  "kernelspec": {
   "display_name": "Python 3",
   "language": "python",
   "name": "python3"
  },
  "language_info": {
   "codemirror_mode": {
    "name": "ipython",
    "version": 3
   },
   "file_extension": ".py",
   "mimetype": "text/x-python",
   "name": "python",
   "nbconvert_exporter": "python",
   "pygments_lexer": "ipython3",
   "version": "3.13.1"
  }
 },
 "nbformat": 4,
 "nbformat_minor": 5
}
