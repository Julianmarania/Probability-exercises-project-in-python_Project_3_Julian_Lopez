{
 "cells": [
  {
   "cell_type": "markdown",
   "id": "a41f3622",
   "metadata": {},
   "source": [
    "# Ejercicios de probabilidad"
   ]
  },
  {
   "cell_type": "markdown",
   "id": "a6bdbd89",
   "metadata": {},
   "source": [
    "## Ejercicio 1 \n",
    "\n",
    "Dos dados se lanzan una vez y se observa el total obtenido. Usa una simulación para encontrar la probabilidad estimada de que la puntuación sea mayor a 7 o un número par. Una simulación es una repetición del mismo experimento múltiples veces para observar su comportamiento:\n",
    "\n",
    "- Ejecuta el experimento 1000 veces (lanza 2 dados 1000 veces, y suma el número de ambos dados).\n",
    "- Lleva una cuenta de los números y las veces que la suma fue mayor a 7 o un número par.\n",
    "- Divide el número del paso 2 entre el número de iteraciones(1000)."
   ]
  },
  {
   "cell_type": "code",
   "execution_count": 271,
   "id": "8939d892",
   "metadata": {},
   "outputs": [
    {
     "name": "stdout",
     "output_type": "stream",
     "text": [
      "The estimated probability that the number that comes out when \n",
      "rolling two dice is greater than seven or even is: 71%\n"
     ]
    }
   ],
   "source": [
    "import random\n",
    "import numpy as np\n",
    "\n",
    "result = 0\n",
    "\n",
    "def dice_game():\n",
    "    return np.random.randint(2, 13, (1000))\n",
    "\n",
    "dice_numbers = dice_game()\n",
    "\n",
    "for i in dice_numbers:\n",
    "    if i > 7 or i % 2 == 0:\n",
    "        result +=1\n",
    "\n",
    "def probability_function(x):\n",
    "     return x / 1000\n",
    "print(f'''The estimated probability that the number that comes out when \n",
    "rolling two dice is greater than seven or even is: {int(round(probability_function(result), 2) * 100)}%''')"
   ]
  },
  {
   "cell_type": "markdown",
   "id": "55732bca",
   "metadata": {},
   "source": [
    "## Ejercicio 2\n",
    "\n",
    "Una caja contiene 10 bolas blancas, 20 bolas rojas y 30 bolas verdes. Si tomamos 5 bolas de la caja reemplazándolas (tomando una bola, anotando el color y luego regresandola a la caja). Queremos saber la probabilidad de:\n",
    "\n",
    "1. Tomar 3 blancas y 2 rojas.\n",
    "2. Tomas todas del mismo color.\n",
    "\n",
    "Ejecuta el experimento 1000 veces y calcula las probabilidades que mencionadas."
   ]
  },
  {
   "cell_type": "code",
   "execution_count": 43,
   "id": "029b4dab",
   "metadata": {},
   "outputs": [
    {
     "name": "stdout",
     "output_type": "stream",
     "text": [
      "{0: 'White', 1: 'White', 2: 'White', 3: 'White', 4: 'White', 5: 'White', 6: 'White', 7: 'White', 8: 'White', 9: 'White', 10: 'Red', 11: 'Red', 12: 'Red', 13: 'Red', 14: 'Red', 15: 'Red', 16: 'Red', 17: 'Red', 18: 'Red', 19: 'Red', 20: 'Red', 21: 'Red', 22: 'Red', 23: 'Red', 24: 'Red', 25: 'Red', 26: 'Red', 27: 'Red', 28: 'Red', 29: 'Red', 30: 'Green', 31: 'Green', 32: 'Green', 33: 'Green', 34: 'Green', 35: 'Green', 36: 'Green', 37: 'Green', 38: 'Green', 39: 'Green', 40: 'Green', 41: 'Green', 42: 'Green', 43: 'Green', 44: 'Green', 45: 'Green', 46: 'Green', 47: 'Green', 48: 'Green', 49: 'Green', 50: 'Green', 51: 'Green', 52: 'Green', 53: 'Green', 54: 'Green', 55: 'Green', 56: 'Green', 57: 'Green', 58: 'Green', 59: 'Green'}\n"
     ]
    }
   ],
   "source": [
    "ball_box = {}\n",
    "\n",
    "# Create the box of balls\n",
    "for i in range(60):\n",
    "    if i < 10:\n",
    "        ball_box[i] = \"White\"\n",
    "    elif (i > 9) and (i < 30):\n",
    "        ball_box[i] = \"Red\"\n",
    "    else:\n",
    "        ball_box[i] = \"Green\"\n",
    "\n",
    "print(ball_box)\n",
    "            "
   ]
  },
  {
   "cell_type": "code",
   "execution_count": 69,
   "id": "eea20380",
   "metadata": {},
   "outputs": [
    {
     "name": "stdout",
     "output_type": "stream",
     "text": [
      "Red\n"
     ]
    }
   ],
   "source": [
    "\n",
    " # Tomar una bola de la caja \n",
    "def sacar_bola():\n",
    "    random_number = random.randint(0, 59)\n",
    "    return ball_box[random_number]\n",
    "print(sacar_bola())"
   ]
  },
  {
   "cell_type": "code",
   "execution_count": 70,
   "id": "476b4122",
   "metadata": {},
   "outputs": [
    {
     "name": "stdout",
     "output_type": "stream",
     "text": [
      "['Green', 'Green', 'Green', 'Green', 'Red']\n"
     ]
    }
   ],
   "source": [
    "# Hacer sacar_bola() 5 veces\n",
    "\n",
    "def cinco_veces():\n",
    "    lista_colores = []\n",
    "    for i in range(5):\n",
    "        i = sacar_bola()\n",
    "        lista_colores.append(i)\n",
    "    return lista_colores\n",
    "print(cinco_veces())"
   ]
  },
  {
   "cell_type": "code",
   "execution_count": 187,
   "id": "13a4be73",
   "metadata": {},
   "outputs": [],
   "source": [
    "# Hacer sacar_bolas() 1000 veces\n",
    "\n",
    "def mil_veces():\n",
    "    lista_de_listas_de_colores = []\n",
    "    for i in range(1000):\n",
    "        i = cinco_veces()\n",
    "        lista_de_listas_de_colores.append(i)\n",
    "    return lista_de_listas_de_colores\n",
    "\n",
    "simulacion = mil_veces()\n",
    "\n"
   ]
  },
  {
   "cell_type": "code",
   "execution_count": 185,
   "id": "4575b5ef",
   "metadata": {},
   "outputs": [
    {
     "name": "stdout",
     "output_type": "stream",
     "text": [
      "33\n"
     ]
    }
   ],
   "source": [
    "# Contar cuantas veces son del mismo color\n",
    "\n",
    "def filtrado_de_iguales():\n",
    "    contador_iguales = 0\n",
    "  \n",
    "    for i in simulacion:\n",
    "        if len(set(i)) == 1:\n",
    "            contador_iguales += 1\n",
    "\n",
    "    return contador_iguales\n",
    "\n",
    "print(filtrado_de_iguales())\n"
   ]
  },
  {
   "cell_type": "code",
   "execution_count": 183,
   "id": "4d6ba093",
   "metadata": {},
   "outputs": [
    {
     "name": "stdout",
     "output_type": "stream",
     "text": [
      "4\n"
     ]
    }
   ],
   "source": [
    "def filtrado_dos_colores():\n",
    "    contador_dos_colores = 0\n",
    "  \n",
    "    for i in simulacion:\n",
    "        bolas_blancas = i.count('White')\n",
    "        bolas_rojas = i.count('Red')\n",
    "\n",
    "        if bolas_blancas == 3 and bolas_rojas == 2:\n",
    "            contador_dos_colores += 1 \n",
    "\n",
    "    return contador_dos_colores\n",
    "\n",
    "print(filtrado_dos_colores())\n",
    "        "
   ]
  },
  {
   "cell_type": "code",
   "execution_count": 184,
   "id": "dc4de1a9",
   "metadata": {},
   "outputs": [
    {
     "name": "stdout",
     "output_type": "stream",
     "text": [
      "The probability of drawing 5 balls of the same color is: 3%\n",
      "The probability of drawing 3 white balls and 2 red balls is: 0.4%\n"
     ]
    }
   ],
   "source": [
    "# Calcular la probabilidad\n",
    "\n",
    "probabilidad_de_mismo_color = filtrado_de_iguales() / 1000\n",
    "print(f'The probability of drawing 5 balls of the same color is: {int(round(probabilidad_de_mismo_color, 2) * 100)}%')\n",
    "\n",
    "probabilidad_dos_colores = filtrado_dos_colores() / 1000\n",
    "print(f'The probability of drawing 3 white balls and 2 red balls is: {round(probabilidad_dos_colores * 100, 2)}%')"
   ]
  }
 ],
 "metadata": {
  "kernelspec": {
   "display_name": "Python 3",
   "language": "python",
   "name": "python3"
  },
  "language_info": {
   "codemirror_mode": {
    "name": "ipython",
    "version": 3
   },
   "file_extension": ".py",
   "mimetype": "text/x-python",
   "name": "python",
   "nbconvert_exporter": "python",
   "pygments_lexer": "ipython3",
   "version": "3.13.1"
  }
 },
 "nbformat": 4,
 "nbformat_minor": 5
}
